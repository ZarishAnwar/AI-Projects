{
  "nbformat": 4,
  "nbformat_minor": 0,
  "metadata": {
    "colab": {
      "name": "Detect_facial_features.ipynb",
      "provenance": [],
      "collapsed_sections": []
    },
    "kernelspec": {
      "name": "python3",
      "display_name": "Python 3"
    },
    "accelerator": "GPU"
  },
  "cells": [
    {
      "cell_type": "markdown",
      "source": [
        "# Importing face recognition"
      ],
      "metadata": {
        "id": "5GzlpVOuPpbt"
      }
    },
    {
      "cell_type": "code",
      "metadata": {
        "id": "my8QfcWe6eol"
      },
      "source": [
        "!pip3 install face_recognition"
      ],
      "execution_count": null,
      "outputs": []
    },
    {
      "cell_type": "code",
      "metadata": {
        "id": "J0n-0yDg7k2E"
      },
      "source": [
        "%matplotlib inline"
      ],
      "execution_count": null,
      "outputs": []
    },
    {
      "cell_type": "markdown",
      "source": [
        "# Camera Capture\n",
        "Using a webcam to capture images for processing on the runtim\n",
        "Using Python and JavaScript, we define the functions."
      ],
      "metadata": {
        "id": "tfbEnWSwPzE4"
      }
    },
    {
      "cell_type": "code",
      "metadata": {
        "id": "CtWpZQcF7PvB"
      },
      "source": [
        "#google colab snippets\n",
        "from IPython.display import display, Javascript\n",
        "from google.colab.output import eval_js\n",
        "from base64 import b64decode\n",
        "\n",
        "def take_photo(filename='base_pic.jpg', quality=0.8):\n",
        "  js = Javascript('''\n",
        "    async function takePhoto(quality) {\n",
        "      const div = document.createElement('div');\n",
        "      const capture = document.createElement('button');\n",
        "      capture.textContent = 'Capture';\n",
        "      div.appendChild(capture);\n",
        "\n",
        "      const video = document.createElement('video');\n",
        "      video.style.display = 'block';\n",
        "      const stream = await navigator.mediaDevices.getUserMedia({video: true});\n",
        "\n",
        "      document.body.appendChild(div);\n",
        "      div.appendChild(video);\n",
        "      video.srcObject = stream;\n",
        "      await video.play();\n",
        "\n",
        "      // Resize the output to fit the video element.\n",
        "      google.colab.output.setIframeHeight(document.documentElement.scrollHeight, true);\n",
        "\n",
        "      // Wait for Capture to be clicked.\n",
        "      await new Promise((resolve) => capture.onclick = resolve);\n",
        "\n",
        "      const canvas = document.createElement('canvas');\n",
        "      canvas.width = video.videoWidth;\n",
        "      canvas.height = video.videoHeight;\n",
        "      canvas.getContext('2d').drawImage(video, 0, 0);\n",
        "      stream.getVideoTracks()[0].stop();\n",
        "      div.remove();\n",
        "      return canvas.toDataURL('image/jpeg', quality);\n",
        "    }\n",
        "    ''')\n",
        "  display(js)\n",
        "  data = eval_js('takePhoto({})'.format(quality))\n",
        "  binary = b64decode(data.split(',')[1])\n",
        "  with open(filename, 'wb') as f:\n",
        "    f.write(binary)\n",
        "  return filename"
      ],
      "execution_count": null,
      "outputs": []
    },
    {
      "cell_type": "markdown",
      "metadata": {
        "id": "00dM1lFvFaU9"
      },
      "source": [
        "## Camera Detection Function \n",
        "Detect camera presence. If not camera is present, an error message should be displayed"
      ]
    },
    {
      "cell_type": "code",
      "metadata": {
        "id": "XCN39A287WA3"
      },
      "source": [
        "from IPython.display import Image\n",
        "try:\n",
        "  filename = take_photo()\n",
        "  print('Saved to {}'.format(filename))\n",
        "  \n",
        " \n",
        "  display(Image(filename))\n",
        "except Exception as err:\n",
        "   print(str(err))"
      ],
      "execution_count": null,
      "outputs": []
    },
    {
      "cell_type": "code",
      "metadata": {
        "id": "IPe6Hbil654C"
      },
      "source": [
        "from PIL import Image, ImageDraw\n",
        "import face_recognition\n",
        "#from google.colab.patches import cv2_imshow\n",
        "\n",
        "\n",
        "image = face_recognition.load_image_file(\"base_pic.jpg\")\n",
        "\n",
        "#below returns all facial features\n",
        "face_landmarks_list = face_recognition.face_landmarks(image)\n",
        "\n",
        "#works with multi face too\n",
        "print(\"found {} face(s) in this photograph.\".format(len(face_landmarks_list)))\n",
        "\n",
        "\n",
        "landmark_image = Image.fromarray(image)\n",
        "drawer = ImageDraw.Draw(landmark_image)\n",
        "\n",
        "for landmarks in face_landmarks_list:\n",
        "\n",
        "    #print features\n",
        "    for facial_feature in landmarks.keys():\n",
        "        print(\"The {} in this face has the following points: {}\".format(facial_feature, landmarks[facial_feature]))\n",
        "\n",
        "    \n",
        "    for facial_feature in landmarks.keys():\n",
        "        drawer.line(landmarks[facial_feature], width=3)\n"
      ],
      "execution_count": null,
      "outputs": []
    },
    {
      "cell_type": "markdown",
      "source": [
        "If your device has a camera, it will open and then capture an image or video and store it in the form you defined previously on your code."
      ],
      "metadata": {
        "id": "Os0YQvGdKJpi"
      }
    },
    {
      "cell_type": "code",
      "metadata": {
        "id": "IDhupL6WB7C3"
      },
      "source": [
        "landmark_image"
      ],
      "execution_count": null,
      "outputs": []
    }
  ]
}