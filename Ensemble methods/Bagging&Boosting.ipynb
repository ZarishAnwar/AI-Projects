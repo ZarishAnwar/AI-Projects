{
 "cells": [
  {
   "cell_type": "code",
   "execution_count": 6,
   "id": "e912d423",
   "metadata": {},
   "outputs": [
    {
     "name": "stdout",
     "output_type": "stream",
     "text": [
      "Model test Score: 0.965,  Model training Score: 0.972\n"
     ]
    }
   ],
   "source": [
    "import numpy as np\n",
    "from sklearn import datasets\n",
    "from sklearn.model_selection import train_test_split\n",
    "from sklearn.linear_model import LogisticRegression\n",
    "from sklearn.pipeline import make_pipeline\n",
    "from sklearn.ensemble import BaggingClassifier\n",
    "# Loading the dataset\n",
    "BC = datasets.load_breast_cancer()\n",
    "X = BC.data\n",
    "Y = BC.target\n",
    "# Create training and test split\n",
    "X_Train, X_Test, y_Train, y_Test = train_test_split(X, Y, test_size=0.25, random_state=30, stratify=Y)\n",
    "# Pipeline Estimator\n",
    "Pipeline = make_pipeline(StandardScaler(), LogisticRegression(random_state=1))\n",
    "# A model is fit using BaggingClassifier with base estimator as LogisticRegression\n",
    "BGclassifier = BaggingClassifier(base_estimator=Pipeline, n_estimators=100,\n",
    "                                 max_features=10,\n",
    "                                 max_samples=100,\n",
    "                                 random_state=30, n_jobs=5)\n",
    "# Fit the bagging classifier\n",
    "BGclassifier.fit(X_Train, y_Train)\n",
    "# Model scores on test and training data\n",
    "print('Model test Score: %.3f, ' %BGclassifier.score(X_Test, y_Test),\n",
    "      'Model training Score: %.3f' %BGclassifier.score(X_Train, y_Train))\n",
    "\n"
   ]
  },
  {
   "cell_type": "code",
   "execution_count": 7,
   "id": "37b4116e",
   "metadata": {},
   "outputs": [
    {
     "name": "stdout",
     "output_type": "stream",
     "text": [
      "Model Accuracy: 0.891\n",
      "The mean squared error (MSE) on test set: 6.9844\n"
     ]
    }
   ],
   "source": [
    "from sklearn import datasets\n",
    "from sklearn.preprocessing import StandardScaler\n",
    "from sklearn.model_selection import train_test_split\n",
    "from sklearn.ensemble import GradientBoostingRegressor\n",
    "from sklearn.metrics import mean_squared_error\n",
    "# Load the Boston Dataset\n",
    "boston = datasets.load_boston()\n",
    "# Create Training and Test Split\n",
    "X_Train, X_Test, y_Train, y_Test = train_test_split(boston.data, boston.target, random_state=30, test_size=0.25)\n",
    "# Standardize the dataset\n",
    "ss = StandardScaler()\n",
    "X_Train_Std = ss.fit_transform(X_Train)\n",
    "X_Test_Std = ss.transform(X_Test)\n",
    "# Hyperparameters for GradientBoostingRegressor\n",
    "GBR_params = {'n_estimators': 1000,'max_depth': 3,'min_samples_split': 5,'learning_rate': 0.01, 'loss': 'ls'}\n",
    "# Create an instance of gradient boosting regressor\n",
    "GBR = GradientBoostingRegressor(**GBR_params)\n",
    "# Fit the model\n",
    "GBR.fit(X_Train_Std, y_Train)\n",
    "# Print Coefficient of determination R^2\n",
    "print(\"Model Accuracy: %.3f\" % GBR.score(X_Test_Std, y_Test))\n",
    "# Create the mean squared error\n",
    "MSE = mean_squared_error(y_Test, GBR.predict(X_Test_Std))\n",
    "print(\"The mean squared error (MSE) on test set: {:.4f}\".format(MSE))"
   ]
  },
  {
   "cell_type": "code",
   "execution_count": null,
   "id": "56ca2286",
   "metadata": {},
   "outputs": [],
   "source": []
  }
 ],
 "metadata": {
  "kernelspec": {
   "display_name": "Python 3 (ipykernel)",
   "language": "python",
   "name": "python3"
  },
  "language_info": {
   "codemirror_mode": {
    "name": "ipython",
    "version": 3
   },
   "file_extension": ".py",
   "mimetype": "text/x-python",
   "name": "python",
   "nbconvert_exporter": "python",
   "pygments_lexer": "ipython3",
   "version": "3.9.7"
  }
 },
 "nbformat": 4,
 "nbformat_minor": 5
}
